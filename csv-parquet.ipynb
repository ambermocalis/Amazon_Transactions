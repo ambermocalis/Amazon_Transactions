{
 "cells": [
  {
   "cell_type": "markdown",
   "metadata": {},
   "source": [
    "### Convert CSV to Parquet files for large files"
   ]
  },
  {
   "cell_type": "code",
   "execution_count": 1,
   "metadata": {},
   "outputs": [
    {
     "name": "stdout",
     "output_type": "stream",
     "text": [
      "Converted data/amazon-purchases.csv to data/amazon-purchases.parquet\n"
     ]
    }
   ],
   "source": [
    "import duckdb\n",
    "\n",
    "def csv_to_parquet(csv_file: str, parquet_file: str):\n",
    "    \"\"\"\n",
    "    Converts a CSV file to Parquet format using DuckDB.\n",
    "\n",
    "    :param csv_file: Path to the input CSV file.\n",
    "    :param parquet_file: Path to the output Parquet file.\n",
    "    \"\"\"\n",
    "    conn = duckdb.connect(\":memory:\")  # Use an in-memory database\n",
    "    conn.execute(f\"COPY (SELECT * FROM read_csv_auto('{csv_file}')) TO '{parquet_file}' (FORMAT 'parquet')\")\n",
    "    conn.close()\n",
    "    print(f\"Converted {csv_file} to {parquet_file}\")\n",
    "\n",
    "# Example usage\n",
    "csv_to_parquet(\"data/amazon-purchases.csv\", \"data/amazon-purchases.parquet\")"
   ]
  }
 ],
 "metadata": {
  "kernelspec": {
   "display_name": ".venv",
   "language": "python",
   "name": "python3"
  },
  "language_info": {
   "codemirror_mode": {
    "name": "ipython",
    "version": 3
   },
   "file_extension": ".py",
   "mimetype": "text/x-python",
   "name": "python",
   "nbconvert_exporter": "python",
   "pygments_lexer": "ipython3",
   "version": "3.13.1"
  }
 },
 "nbformat": 4,
 "nbformat_minor": 2
}
